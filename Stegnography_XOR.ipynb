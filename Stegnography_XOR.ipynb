{
  "nbformat": 4,
  "nbformat_minor": 0,
  "metadata": {
    "colab": {
      "provenance": [],
      "authorship_tag": "ABX9TyM0gDf0p4W07+NbQ2y78uqY",
      "include_colab_link": true
    },
    "kernelspec": {
      "name": "python3",
      "display_name": "Python 3"
    },
    "language_info": {
      "name": "python"
    }
  },
  "cells": [
    {
      "cell_type": "markdown",
      "metadata": {
        "id": "view-in-github",
        "colab_type": "text"
      },
      "source": [
        "<a href=\"https://colab.research.google.com/github/VaishnaviMandloi/30DaysOfJavaScript/blob/master/Stegnography_XOR.ipynb\" target=\"_parent\"><img src=\"https://colab.research.google.com/assets/colab-badge.svg\" alt=\"Open In Colab\"/></a>"
      ]
    },
    {
      "cell_type": "code",
      "execution_count": 1,
      "metadata": {
        "id": "8Mualfje99bJ"
      },
      "outputs": [],
      "source": [
        "import cv2\n",
        "# it is used for image processing"
      ]
    },
    {
      "cell_type": "code",
      "source": [
        "import os\n",
        "# when we interact with the operating system we use os library\n",
        "\n",
        "import string\n",
        "#string manipulation, ascii to string ,string to ascii value"
      ],
      "metadata": {
        "id": "7vTUBbYO-L5k"
      },
      "execution_count": 2,
      "outputs": []
    },
    {
      "cell_type": "code",
      "source": [
        "from google.colab import files\n",
        "\n",
        "# Use the files.upload() function to upload a file\n",
        "uploaded = files.upload()\n"
      ],
      "metadata": {
        "colab": {
          "base_uri": "https://localhost:8080/",
          "height": 73
        },
        "id": "burz90QBEBJQ",
        "outputId": "619a9a13-1bb7-46bf-988c-d7f5a3625f03"
      },
      "execution_count": 3,
      "outputs": [
        {
          "output_type": "display_data",
          "data": {
            "text/plain": [
              "<IPython.core.display.HTML object>"
            ],
            "text/html": [
              "\n",
              "     <input type=\"file\" id=\"files-d9e0a0a3-910e-4bc6-acb2-249b2cfe67d5\" name=\"files[]\" multiple disabled\n",
              "        style=\"border:none\" />\n",
              "     <output id=\"result-d9e0a0a3-910e-4bc6-acb2-249b2cfe67d5\">\n",
              "      Upload widget is only available when the cell has been executed in the\n",
              "      current browser session. Please rerun this cell to enable.\n",
              "      </output>\n",
              "      <script>// Copyright 2017 Google LLC\n",
              "//\n",
              "// Licensed under the Apache License, Version 2.0 (the \"License\");\n",
              "// you may not use this file except in compliance with the License.\n",
              "// You may obtain a copy of the License at\n",
              "//\n",
              "//      http://www.apache.org/licenses/LICENSE-2.0\n",
              "//\n",
              "// Unless required by applicable law or agreed to in writing, software\n",
              "// distributed under the License is distributed on an \"AS IS\" BASIS,\n",
              "// WITHOUT WARRANTIES OR CONDITIONS OF ANY KIND, either express or implied.\n",
              "// See the License for the specific language governing permissions and\n",
              "// limitations under the License.\n",
              "\n",
              "/**\n",
              " * @fileoverview Helpers for google.colab Python module.\n",
              " */\n",
              "(function(scope) {\n",
              "function span(text, styleAttributes = {}) {\n",
              "  const element = document.createElement('span');\n",
              "  element.textContent = text;\n",
              "  for (const key of Object.keys(styleAttributes)) {\n",
              "    element.style[key] = styleAttributes[key];\n",
              "  }\n",
              "  return element;\n",
              "}\n",
              "\n",
              "// Max number of bytes which will be uploaded at a time.\n",
              "const MAX_PAYLOAD_SIZE = 100 * 1024;\n",
              "\n",
              "function _uploadFiles(inputId, outputId) {\n",
              "  const steps = uploadFilesStep(inputId, outputId);\n",
              "  const outputElement = document.getElementById(outputId);\n",
              "  // Cache steps on the outputElement to make it available for the next call\n",
              "  // to uploadFilesContinue from Python.\n",
              "  outputElement.steps = steps;\n",
              "\n",
              "  return _uploadFilesContinue(outputId);\n",
              "}\n",
              "\n",
              "// This is roughly an async generator (not supported in the browser yet),\n",
              "// where there are multiple asynchronous steps and the Python side is going\n",
              "// to poll for completion of each step.\n",
              "// This uses a Promise to block the python side on completion of each step,\n",
              "// then passes the result of the previous step as the input to the next step.\n",
              "function _uploadFilesContinue(outputId) {\n",
              "  const outputElement = document.getElementById(outputId);\n",
              "  const steps = outputElement.steps;\n",
              "\n",
              "  const next = steps.next(outputElement.lastPromiseValue);\n",
              "  return Promise.resolve(next.value.promise).then((value) => {\n",
              "    // Cache the last promise value to make it available to the next\n",
              "    // step of the generator.\n",
              "    outputElement.lastPromiseValue = value;\n",
              "    return next.value.response;\n",
              "  });\n",
              "}\n",
              "\n",
              "/**\n",
              " * Generator function which is called between each async step of the upload\n",
              " * process.\n",
              " * @param {string} inputId Element ID of the input file picker element.\n",
              " * @param {string} outputId Element ID of the output display.\n",
              " * @return {!Iterable<!Object>} Iterable of next steps.\n",
              " */\n",
              "function* uploadFilesStep(inputId, outputId) {\n",
              "  const inputElement = document.getElementById(inputId);\n",
              "  inputElement.disabled = false;\n",
              "\n",
              "  const outputElement = document.getElementById(outputId);\n",
              "  outputElement.innerHTML = '';\n",
              "\n",
              "  const pickedPromise = new Promise((resolve) => {\n",
              "    inputElement.addEventListener('change', (e) => {\n",
              "      resolve(e.target.files);\n",
              "    });\n",
              "  });\n",
              "\n",
              "  const cancel = document.createElement('button');\n",
              "  inputElement.parentElement.appendChild(cancel);\n",
              "  cancel.textContent = 'Cancel upload';\n",
              "  const cancelPromise = new Promise((resolve) => {\n",
              "    cancel.onclick = () => {\n",
              "      resolve(null);\n",
              "    };\n",
              "  });\n",
              "\n",
              "  // Wait for the user to pick the files.\n",
              "  const files = yield {\n",
              "    promise: Promise.race([pickedPromise, cancelPromise]),\n",
              "    response: {\n",
              "      action: 'starting',\n",
              "    }\n",
              "  };\n",
              "\n",
              "  cancel.remove();\n",
              "\n",
              "  // Disable the input element since further picks are not allowed.\n",
              "  inputElement.disabled = true;\n",
              "\n",
              "  if (!files) {\n",
              "    return {\n",
              "      response: {\n",
              "        action: 'complete',\n",
              "      }\n",
              "    };\n",
              "  }\n",
              "\n",
              "  for (const file of files) {\n",
              "    const li = document.createElement('li');\n",
              "    li.append(span(file.name, {fontWeight: 'bold'}));\n",
              "    li.append(span(\n",
              "        `(${file.type || 'n/a'}) - ${file.size} bytes, ` +\n",
              "        `last modified: ${\n",
              "            file.lastModifiedDate ? file.lastModifiedDate.toLocaleDateString() :\n",
              "                                    'n/a'} - `));\n",
              "    const percent = span('0% done');\n",
              "    li.appendChild(percent);\n",
              "\n",
              "    outputElement.appendChild(li);\n",
              "\n",
              "    const fileDataPromise = new Promise((resolve) => {\n",
              "      const reader = new FileReader();\n",
              "      reader.onload = (e) => {\n",
              "        resolve(e.target.result);\n",
              "      };\n",
              "      reader.readAsArrayBuffer(file);\n",
              "    });\n",
              "    // Wait for the data to be ready.\n",
              "    let fileData = yield {\n",
              "      promise: fileDataPromise,\n",
              "      response: {\n",
              "        action: 'continue',\n",
              "      }\n",
              "    };\n",
              "\n",
              "    // Use a chunked sending to avoid message size limits. See b/62115660.\n",
              "    let position = 0;\n",
              "    do {\n",
              "      const length = Math.min(fileData.byteLength - position, MAX_PAYLOAD_SIZE);\n",
              "      const chunk = new Uint8Array(fileData, position, length);\n",
              "      position += length;\n",
              "\n",
              "      const base64 = btoa(String.fromCharCode.apply(null, chunk));\n",
              "      yield {\n",
              "        response: {\n",
              "          action: 'append',\n",
              "          file: file.name,\n",
              "          data: base64,\n",
              "        },\n",
              "      };\n",
              "\n",
              "      let percentDone = fileData.byteLength === 0 ?\n",
              "          100 :\n",
              "          Math.round((position / fileData.byteLength) * 100);\n",
              "      percent.textContent = `${percentDone}% done`;\n",
              "\n",
              "    } while (position < fileData.byteLength);\n",
              "  }\n",
              "\n",
              "  // All done.\n",
              "  yield {\n",
              "    response: {\n",
              "      action: 'complete',\n",
              "    }\n",
              "  };\n",
              "}\n",
              "\n",
              "scope.google = scope.google || {};\n",
              "scope.google.colab = scope.google.colab || {};\n",
              "scope.google.colab._files = {\n",
              "  _uploadFiles,\n",
              "  _uploadFilesContinue,\n",
              "};\n",
              "})(self);\n",
              "</script> "
            ]
          },
          "metadata": {}
        },
        {
          "output_type": "stream",
          "name": "stdout",
          "text": [
            "Saving car.jpg to car.jpg\n"
          ]
        }
      ]
    },
    {
      "cell_type": "code",
      "source": [
        "# read content of car file and store into img\n",
        "img = cv2.imread(\"car.jpg\") #filepath\n",
        "\n",
        "text = input(\"Enter your message : \") #secret message\n",
        "key = input(\"Enter a password : \") # key"
      ],
      "metadata": {
        "colab": {
          "base_uri": "https://localhost:8080/"
        },
        "id": "K5OzSSxi-Wdl",
        "outputId": "b9bafb31-58c4-4940-c8a3-7b7f48eccaaf"
      },
      "execution_count": 7,
      "outputs": [
        {
          "name": "stdout",
          "output_type": "stream",
          "text": [
            "Enter your message : sure we discuss it in party\n",
            "Enter a password : 1234\n"
          ]
        }
      ]
    },
    {
      "cell_type": "markdown",
      "source": [
        "encryption"
      ],
      "metadata": {
        "id": "szFyIXgGUYLG"
      }
    },
    {
      "cell_type": "code",
      "source": [
        "# initialising two empty dictionary to map the character and compare the ASCII value of pixcel\n",
        "d= {}\n",
        "c= {}\n",
        "\n",
        "# 255 is the maximum value of pixle\n",
        "for i in range(255) :\n",
        "  d[chr(i)]=i # in first dictionary we maped the character into the ascii\n",
        "  c[i]=chr(i) # character inside second dictionary"
      ],
      "metadata": {
        "id": "f4rmL8nCGYCE"
      },
      "execution_count": 8,
      "outputs": []
    },
    {
      "cell_type": "code",
      "source": [
        "i = img.shape[0]\n",
        "j= img.shape[1]\n",
        "print(i,j)"
      ],
      "metadata": {
        "colab": {
          "base_uri": "https://localhost:8080/"
        },
        "id": "XHh4-IhfTNfa",
        "outputId": "e1e2fce7-b7be-464e-d1df-b04f12456917"
      },
      "execution_count": 9,
      "outputs": [
        {
          "output_type": "stream",
          "name": "stdout",
          "text": [
            "180 320\n"
          ]
        }
      ]
    },
    {
      "cell_type": "code",
      "source": [
        "# to store the message into the specific image\n",
        "\n",
        "kl=0\n",
        "# Initialize the r,g,b values\n",
        "n=0 # number of rows\n",
        "m=0 # number of column\n",
        "z=0 # decides plane\n",
        "\n",
        "# combining image with the message\n",
        "l=len(text)\n",
        "for i in range(l) :\n",
        "  img[n,m,z]=d[text[i]]^d[key[kl]] # performing xor operation to encrypt text and key\n",
        "  n=n+1\n",
        "  m=m+1\n",
        "  z=(z+1)%3 #adding character input at this r,g,b positions that why modue 3 used\n",
        "            # this is for every value of z, remainder will be between 0,1,2 . i.e r,g,b plane will be set automatically.\n",
        "            # whatever be the value f z , z=(z+1)%3 will always between 0,1,2 . the same concept is used for random number"
      ],
      "metadata": {
        "id": "EO0uRZfASvbt"
      },
      "execution_count": 11,
      "outputs": []
    },
    {
      "cell_type": "code",
      "source": [
        "kl=(kl+1)%len(key)"
      ],
      "metadata": {
        "id": "FfyMYDGUYZk-"
      },
      "execution_count": 12,
      "outputs": []
    },
    {
      "cell_type": "code",
      "source": [
        "#create the image which have encrypted meassage in it\n",
        "cv2.imwrite(\"encrypted_img.jpg\",img)\n",
        "\n",
        "# we are open that command using this operating system interface\n",
        "os.system(\"encrypted_img.jpg\")\n",
        "print(\"data Hiding in Image completed successfully.\")"
      ],
      "metadata": {
        "colab": {
          "base_uri": "https://localhost:8080/"
        },
        "id": "orPD4jGzT77Z",
        "outputId": "ab414bca-eb41-433a-d4db-03d75bf3ac0b"
      },
      "execution_count": 14,
      "outputs": [
        {
          "output_type": "stream",
          "name": "stdout",
          "text": [
            "data Hiding in Image completed successfully.\n"
          ]
        }
      ]
    },
    {
      "cell_type": "markdown",
      "source": [
        "decryption"
      ],
      "metadata": {
        "id": "7IKDQaexZ7NX"
      }
    },
    {
      "cell_type": "code",
      "source": [
        "\n",
        "kl=0\n",
        "tln=len(text)\n",
        "\n",
        "# initializing r,g,b values again\n",
        "n=0 # number of rows\n",
        "m=0 # number of column\n",
        "z=0 # decides plane\n",
        "\n",
        "ch =int(input(\"Enter 1 to extract to text : \"))\n",
        "if ch == 1:\n",
        "  key1= input(\"Enter key to extract text : \")\n",
        "  decrypt=\"\"\n",
        "  if key== key1 :\n",
        "   for i in range(len(text)) :\n",
        "     message = message + c[img[n,m,z]] # here we change the ascii value into character\n",
        "     n=n+1\n",
        "     m=m+1\n",
        "     z=(z+1)%3\n",
        "     kl=(kl+1)%len(key)\n",
        "   print(\"Decrypted message : \",decrypt)\n",
        "  else:\n",
        "   print(\"key not valid\")\n",
        "else:\n",
        "  print(\"Thank you !!, EXITING\")\n"
      ],
      "metadata": {
        "colab": {
          "base_uri": "https://localhost:8080/"
        },
        "id": "jHZBqukMUMNO",
        "outputId": "cae32b19-7e10-4231-a472-aebc6f8e2f9b"
      },
      "execution_count": 15,
      "outputs": [
        {
          "output_type": "stream",
          "name": "stdout",
          "text": [
            "Enter 1 to extract to text : 1234\n",
            "Thank you !!, EXITING\n"
          ]
        }
      ]
    }
  ]
}